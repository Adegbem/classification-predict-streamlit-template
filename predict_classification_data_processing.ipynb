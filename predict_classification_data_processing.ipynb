{
 "cells": [
  {
   "cell_type": "code",
   "execution_count": null,
   "id": "b4926b04",
   "metadata": {},
   "outputs": [],
   "source": []
  },
  {
   "cell_type": "markdown",
   "id": "c7c68ac2",
   "metadata": {},
   "source": [
    "Importing Libraries to be used in the notebook"
   ]
  },
  {
   "cell_type": "code",
   "execution_count": 1,
   "id": "a238770b",
   "metadata": {},
   "outputs": [],
   "source": [
    "import numpy as np\n",
    "import pandas as pd\n",
    "import matplotlib.pyplot as plt\n",
    "import seaborn as sns\n",
    "%matplotlib inline\n",
    "import re\n",
    "\n",
    "# libraries for NLP\n",
    "from nltk.corpus import stopwords\n",
    "from nltk import SnowballStemmer, PorterStemmer, LancasterStemmer\n",
    "from nltk.stem import WordNetLemmatizer\n",
    "\n",
    "\n",
    "from sklearn.model_selection import train_test_split\n",
    "from sklearn.feature_extraction.text import CountVectorizer\n",
    "from sklearn.preprocessing import MinMaxScaler\n",
    "\n",
    "from sklearn.ensemble import RandomForestClassifier\n",
    "from sklearn.linear_model import LogisticRegression\n",
    "from sklearn.svm import SVC\n",
    "\n",
    "# libraries to check model metrics\n",
    "from sklearn.metrics import confusion_matrix\n",
    "from sklearn.metrics import classification_report\n",
    "from sklearn.metrics import accuracy_score, precision_score\n",
    "\n",
    "from xgboost import XGBClassifier"
   ]
  },
  {
   "cell_type": "markdown",
   "id": "c13bb1e9",
   "metadata": {},
   "source": [
    "# Loading Dataset"
   ]
  },
  {
   "cell_type": "code",
   "execution_count": 2,
   "id": "c2999a83",
   "metadata": {},
   "outputs": [
    {
     "data": {
      "text/html": [
       "<div>\n",
       "<style scoped>\n",
       "    .dataframe tbody tr th:only-of-type {\n",
       "        vertical-align: middle;\n",
       "    }\n",
       "\n",
       "    .dataframe tbody tr th {\n",
       "        vertical-align: top;\n",
       "    }\n",
       "\n",
       "    .dataframe thead th {\n",
       "        text-align: right;\n",
       "    }\n",
       "</style>\n",
       "<table border=\"1\" class=\"dataframe\">\n",
       "  <thead>\n",
       "    <tr style=\"text-align: right;\">\n",
       "      <th></th>\n",
       "      <th>sentiment</th>\n",
       "      <th>message</th>\n",
       "      <th>tweetid</th>\n",
       "    </tr>\n",
       "  </thead>\n",
       "  <tbody>\n",
       "    <tr>\n",
       "      <th>0</th>\n",
       "      <td>1</td>\n",
       "      <td>PolySciMajor EPA chief doesn't think carbon di...</td>\n",
       "      <td>625221</td>\n",
       "    </tr>\n",
       "    <tr>\n",
       "      <th>1</th>\n",
       "      <td>1</td>\n",
       "      <td>It's not like we lack evidence of anthropogeni...</td>\n",
       "      <td>126103</td>\n",
       "    </tr>\n",
       "    <tr>\n",
       "      <th>2</th>\n",
       "      <td>2</td>\n",
       "      <td>RT @RawStory: Researchers say we have three ye...</td>\n",
       "      <td>698562</td>\n",
       "    </tr>\n",
       "    <tr>\n",
       "      <th>3</th>\n",
       "      <td>1</td>\n",
       "      <td>#TodayinMaker# WIRED : 2016 was a pivotal year...</td>\n",
       "      <td>573736</td>\n",
       "    </tr>\n",
       "    <tr>\n",
       "      <th>4</th>\n",
       "      <td>1</td>\n",
       "      <td>RT @SoyNovioDeTodas: It's 2016, and a racist, ...</td>\n",
       "      <td>466954</td>\n",
       "    </tr>\n",
       "  </tbody>\n",
       "</table>\n",
       "</div>"
      ],
      "text/plain": [
       "   sentiment                                            message  tweetid\n",
       "0          1  PolySciMajor EPA chief doesn't think carbon di...   625221\n",
       "1          1  It's not like we lack evidence of anthropogeni...   126103\n",
       "2          2  RT @RawStory: Researchers say we have three ye...   698562\n",
       "3          1  #TodayinMaker# WIRED : 2016 was a pivotal year...   573736\n",
       "4          1  RT @SoyNovioDeTodas: It's 2016, and a racist, ...   466954"
      ]
     },
     "metadata": {},
     "output_type": "display_data"
    },
    {
     "data": {
      "text/html": [
       "<div>\n",
       "<style scoped>\n",
       "    .dataframe tbody tr th:only-of-type {\n",
       "        vertical-align: middle;\n",
       "    }\n",
       "\n",
       "    .dataframe tbody tr th {\n",
       "        vertical-align: top;\n",
       "    }\n",
       "\n",
       "    .dataframe thead th {\n",
       "        text-align: right;\n",
       "    }\n",
       "</style>\n",
       "<table border=\"1\" class=\"dataframe\">\n",
       "  <thead>\n",
       "    <tr style=\"text-align: right;\">\n",
       "      <th></th>\n",
       "      <th>message</th>\n",
       "      <th>tweetid</th>\n",
       "    </tr>\n",
       "  </thead>\n",
       "  <tbody>\n",
       "    <tr>\n",
       "      <th>0</th>\n",
       "      <td>Europe will now be looking to China to make su...</td>\n",
       "      <td>169760</td>\n",
       "    </tr>\n",
       "    <tr>\n",
       "      <th>1</th>\n",
       "      <td>Combine this with the polling of staffers re c...</td>\n",
       "      <td>35326</td>\n",
       "    </tr>\n",
       "    <tr>\n",
       "      <th>2</th>\n",
       "      <td>The scary, unimpeachable evidence that climate...</td>\n",
       "      <td>224985</td>\n",
       "    </tr>\n",
       "    <tr>\n",
       "      <th>3</th>\n",
       "      <td>@Karoli @morgfair @OsborneInk @dailykos \\nPuti...</td>\n",
       "      <td>476263</td>\n",
       "    </tr>\n",
       "    <tr>\n",
       "      <th>4</th>\n",
       "      <td>RT @FakeWillMoore: 'Female orgasms cause globa...</td>\n",
       "      <td>872928</td>\n",
       "    </tr>\n",
       "  </tbody>\n",
       "</table>\n",
       "</div>"
      ],
      "text/plain": [
       "                                             message  tweetid\n",
       "0  Europe will now be looking to China to make su...   169760\n",
       "1  Combine this with the polling of staffers re c...    35326\n",
       "2  The scary, unimpeachable evidence that climate...   224985\n",
       "3  @Karoli @morgfair @OsborneInk @dailykos \\nPuti...   476263\n",
       "4  RT @FakeWillMoore: 'Female orgasms cause globa...   872928"
      ]
     },
     "metadata": {},
     "output_type": "display_data"
    }
   ],
   "source": [
    "# Importing train and test data\n",
    "train_df = pd.read_csv('train.csv')\n",
    "test_df = pd.read_csv('test_with_no_labels.csv')\n",
    "display(train_df.head())\n",
    "display(test_df.head())\n"
   ]
  },
  {
   "cell_type": "markdown",
   "id": "f8d885e0",
   "metadata": {},
   "source": [
    "# Exploratory Data Analysis "
   ]
  },
  {
   "cell_type": "code",
   "execution_count": 3,
   "id": "95d952d1",
   "metadata": {},
   "outputs": [
    {
     "name": "stdout",
     "output_type": "stream",
     "text": [
      "<class 'pandas.core.frame.DataFrame'>\n",
      "RangeIndex: 15819 entries, 0 to 15818\n",
      "Data columns (total 3 columns):\n",
      " #   Column     Non-Null Count  Dtype \n",
      "---  ------     --------------  ----- \n",
      " 0   sentiment  15819 non-null  int64 \n",
      " 1   message    15819 non-null  object\n",
      " 2   tweetid    15819 non-null  int64 \n",
      "dtypes: int64(2), object(1)\n",
      "memory usage: 370.9+ KB\n"
     ]
    }
   ],
   "source": [
    "train_df.info()"
   ]
  },
  {
   "cell_type": "markdown",
   "id": "cffb0722",
   "metadata": {},
   "source": [
    "The dataset contains three features\n",
    "- the dataset consist of `15819` rows\n",
    "- there seems to be no null values\n"
   ]
  },
  {
   "cell_type": "code",
   "execution_count": 4,
   "id": "6b31a4b9",
   "metadata": {
    "scrolled": false
   },
   "outputs": [
    {
     "data": {
      "image/png": "[encoded data removed]",
      "text/plain": [
       "<Figure size 432x288 with 1 Axes>"
      ]
     },
     "metadata": {
      "needs_background": "light"
     },
     "output_type": "display_data"
    }
   ],
   "source": [
    "train_df.sentiment.value_counts().plot(kind='bar')\n",
    "plt.ylabel('Frequency')\n",
    "plt.xlabel('sentiment');"
   ]
  },
  {
   "cell_type": "code",
   "execution_count": 98,
   "id": "57852964",
   "metadata": {},
   "outputs": [],
   "source": [
    "# Class count\n",
    "pro_Climate, news_Fact, neutral, anti_Climate = train_df.sentiment.value_counts()"
   ]
  },
  {
   "cell_type": "code",
   "execution_count": 99,
   "id": "3acfe471",
   "metadata": {},
   "outputs": [],
   "source": [
    "# Divide by class\n",
    "neutral_df = train_df[train_df['sentiment']==0]\n",
    "anti_Climate_df = train_df[train_df['sentiment']==-1]\n",
    "pro_Climate_df = train_df[train_df['sentiment']==1]\n",
    "news_Fact_df = train_df[train_df['sentiment']==2]"
   ]
  },
  {
   "cell_type": "code",
   "execution_count": 119,
   "id": "399f3588",
   "metadata": {},
   "outputs": [],
   "source": [
    "# As usual, we start by importing our modules\n",
    "from sklearn.utils import resample"
   ]
  },
  {
   "cell_type": "code",
   "execution_count": 120,
   "id": "0f140917",
   "metadata": {},
   "outputs": [
    {
     "name": "stdout",
     "output_type": "stream",
     "text": [
      "Random under-sampling:\n",
      " 0    8530\n",
      "-1    8530\n",
      " 2    8530\n",
      " 1    8530\n",
      "Name: sentiment, dtype: int64\n"
     ]
    },
    {
     "data": {
      "image/png": "[encoded data removed]",
      "text/plain": [
       "<Figure size 432x288 with 1 Axes>"
      ]
     },
     "metadata": {
      "needs_background": "light"
     },
     "output_type": "display_data"
    }
   ],
   "source": [
    "neutral_df_over = resample(neutral_df,\n",
    "                          replace=True, # sample without replacement (no need to duplicate observations)\n",
    "                          n_samples=pro_Climate, # match number in minority class\n",
    "                          random_state=27)\n",
    "\n",
    "anti_Climate_df_over = resample(anti_Climate_df,\n",
    "                          replace=True, # sample without replacement (no need to duplicate observations)\n",
    "                          n_samples=pro_Climate, # match number in minority class\n",
    "                          random_state=27)\n",
    "news_Fact_df_over = resample(news_Fact_df,\n",
    "                          replace=True, # sample without replacement (no need to duplicate observations)\n",
    "                          n_samples=pro_Climate, # match number in minority class\n",
    "                          random_state=27)\n",
    "\n",
    "df_test_over = pd.concat([neutral_df_over, anti_Climate_df_over, news_Fact_df_over, pro_Climate_df], axis=0)\n",
    "\n",
    "print('Random under-sampling:')\n",
    "print(df_test_over.sentiment.value_counts())\n",
    "\n",
    "df_test_over.sentiment.value_counts().plot(kind='bar', title='Count (target)');"
   ]
  },
  {
   "cell_type": "code",
   "execution_count": 117,
   "id": "200f2b21",
   "metadata": {},
   "outputs": [],
   "source": [
    "# neutral_df_over = neutral_df.sample(news_Fact, replace=True)\n",
    "# anti_Climate_df_over = anti_Climate_df.sample(news_Fact, replace=True)\n",
    "# pro_Climate_df_over = pro_Climate_df.sample(news_Fact)\n",
    "# df_test_over = pd.concat([neutral_df_over, anti_Climate_df_over, pro_Climate_df_over, news_Fact_df], axis=0)\n",
    "\n",
    "# print('Random under-sampling:')\n",
    "# print(df_test_over.sentiment.value_counts())\n",
    "\n",
    "# df_test_over.sentiment.value_counts().plot(kind='bar', title='Count (target)');"
   ]
  },
  {
   "cell_type": "markdown",
   "id": "9f325cb6",
   "metadata": {},
   "source": [
    "Most tweets support the man-made climate change which is represented by `1` while we have a fewer anti-climate change tweets"
   ]
  },
  {
   "cell_type": "markdown",
   "id": "bbe97547",
   "metadata": {},
   "source": [
    "# Data Cleaning and Wrangling "
   ]
  },
  {
   "cell_type": "markdown",
   "id": "90eb8d01",
   "metadata": {},
   "source": [
    "### Creating a function to clean the `message`"
   ]
  },
  {
   "cell_type": "code",
   "execution_count": 5,
   "id": "b1537ba2",
   "metadata": {},
   "outputs": [],
   "source": [
    "# sentiment_list\n",
    "sentiment_list = ['Neutral', 'Anti-Climate', 'Pro-Climate','News-Fact']"
   ]
  },
  {
   "cell_type": "code",
   "execution_count": 6,
   "id": "1a042005",
   "metadata": {},
   "outputs": [],
   "source": [
    "# # creating a function to stem each words\n",
    "stemmer = SnowballStemmer('english')\n",
    "# creating a function to lemmatize each words\n",
    "lemmatizer = WordNetLemmatizer()"
   ]
  },
  {
   "cell_type": "code",
   "execution_count": 121,
   "id": "dce4bb2e",
   "metadata": {},
   "outputs": [],
   "source": [
    "# creating a function\n",
    "def cleaning(tweet):\n",
    "    pattern = r'http[s]?://(?:[A-Za-z]|[0-9]|[$-_@.&+]|[!*\\(\\),]|(?:%[0-9A-Fa-f][0-9A-Fa-f]))+'\n",
    "    rem_link = re.sub(pattern, '', tweet)\n",
    "    rem_punct = re.sub(r'[^a-zA-Z ]', '', rem_link)\n",
    "    rem_punct = re.sub(r'RT', '', rem_punct)\n",
    "    word_split = rem_punct.lower().split()\n",
    "    stops = set(stopwords.words(\"english\"))\n",
    "    without_stop_sent = ' '.join([t for t in word_split if t not in stops])\n",
    "    return without_stop_sent\n",
    "\n",
    "df_test_over['cleaned_tweet'] = df_test_over.message.apply(cleaning)"
   ]
  },
  {
   "cell_type": "code",
   "execution_count": 122,
   "id": "cc0f74a1",
   "metadata": {},
   "outputs": [],
   "source": [
    "def stemmer_fn(words, stemmer):\n",
    "    word_split = set(words.split())\n",
    "    return ' '.join([stemmer.stem(word) for word in word_split])\n",
    "\n",
    "df_test_over['stem_tweet'] = df_test_over.cleaned_tweet.apply(stemmer_fn, args=(stemmer, ))"
   ]
  },
  {
   "cell_type": "code",
   "execution_count": 123,
   "id": "6c7a7748",
   "metadata": {},
   "outputs": [],
   "source": [
    "def lemmatizer_fn(words, lemmatizer):\n",
    "    word_split = set(words.split())\n",
    "    return ' '.join([lemmatizer.lemmatize(word) for word in word_split])\n",
    "\n",
    "df_test_over['lemma_tweet'] = df_test_over['cleaned_tweet'].apply(lemmatizer_fn, args=(lemmatizer, ))"
   ]
  },
  {
   "cell_type": "code",
   "execution_count": 124,
   "id": "5ea901a5",
   "metadata": {},
   "outputs": [
    {
     "data": {
      "text/html": [
       "<div>\n",
       "<style scoped>\n",
       "    .dataframe tbody tr th:only-of-type {\n",
       "        vertical-align: middle;\n",
       "    }\n",
       "\n",
       "    .dataframe tbody tr th {\n",
       "        vertical-align: top;\n",
       "    }\n",
       "\n",
       "    .dataframe thead th {\n",
       "        text-align: right;\n",
       "    }\n",
       "</style>\n",
       "<table border=\"1\" class=\"dataframe\">\n",
       "  <thead>\n",
       "    <tr style=\"text-align: right;\">\n",
       "      <th></th>\n",
       "      <th>sentiment</th>\n",
       "      <th>message</th>\n",
       "      <th>tweetid</th>\n",
       "      <th>cleaned_tweet</th>\n",
       "      <th>stem_tweet</th>\n",
       "      <th>lemma_tweet</th>\n",
       "    </tr>\n",
       "  </thead>\n",
       "  <tbody>\n",
       "    <tr>\n",
       "      <th>6841</th>\n",
       "      <td>0</td>\n",
       "      <td>RT @kady: Don't worry, people can now start co...</td>\n",
       "      <td>937757</td>\n",
       "      <td>kady dont worry people start complaining took ...</td>\n",
       "      <td>chang start new worri two peopl dont year appo...</td>\n",
       "      <td>change start new worry two people dont year ap...</td>\n",
       "    </tr>\n",
       "    <tr>\n",
       "      <th>4894</th>\n",
       "      <td>0</td>\n",
       "      <td>Gold's gone, many other minerals almost gone, ...</td>\n",
       "      <td>364120</td>\n",
       "      <td>golds gone many minerals almost gone weve rest...</td>\n",
       "      <td>import sought chang restrict miner mani hardwo...</td>\n",
       "      <td>import sought change restricted mineral many h...</td>\n",
       "    </tr>\n",
       "    <tr>\n",
       "      <th>8696</th>\n",
       "      <td>0</td>\n",
       "      <td>@GlblCtzn dont fight climate change everyone u...</td>\n",
       "      <td>201783</td>\n",
       "      <td>glblctzn dont fight climate change everyone un...</td>\n",
       "      <td>chang everyon fight planet glblctzn understand...</td>\n",
       "      <td>change everyone fight planet glblctzn understa...</td>\n",
       "    </tr>\n",
       "    <tr>\n",
       "      <th>906</th>\n",
       "      <td>0</td>\n",
       "      <td>What do you guys think of Trump's stance on cl...</td>\n",
       "      <td>558046</td>\n",
       "      <td>guys think trumps stance climate change global...</td>\n",
       "      <td>chang guy global warm think climat stanc trump</td>\n",
       "      <td>change guy global warming think climate stance...</td>\n",
       "    </tr>\n",
       "    <tr>\n",
       "      <th>6741</th>\n",
       "      <td>0</td>\n",
       "      <td>An upside to climate change is that I'm wearin...</td>\n",
       "      <td>816243</td>\n",
       "      <td>upside climate change im wearing shorts tshirt...</td>\n",
       "      <td>chang wear short novemb climat tshirt upsid im</td>\n",
       "      <td>change wearing short november climate tshirt u...</td>\n",
       "    </tr>\n",
       "  </tbody>\n",
       "</table>\n",
       "</div>"
      ],
      "text/plain": [
       "      sentiment                                            message  tweetid  \\\n",
       "6841          0  RT @kady: Don't worry, people can now start co...   937757   \n",
       "4894          0  Gold's gone, many other minerals almost gone, ...   364120   \n",
       "8696          0  @GlblCtzn dont fight climate change everyone u...   201783   \n",
       "906           0  What do you guys think of Trump's stance on cl...   558046   \n",
       "6741          0  An upside to climate change is that I'm wearin...   816243   \n",
       "\n",
       "                                          cleaned_tweet  \\\n",
       "6841  kady dont worry people start complaining took ...   \n",
       "4894  golds gone many minerals almost gone weve rest...   \n",
       "8696  glblctzn dont fight climate change everyone un...   \n",
       "906   guys think trumps stance climate change global...   \n",
       "6741  upside climate change im wearing shorts tshirt...   \n",
       "\n",
       "                                             stem_tweet  \\\n",
       "6841  chang start new worri two peopl dont year appo...   \n",
       "4894  import sought chang restrict miner mani hardwo...   \n",
       "8696  chang everyon fight planet glblctzn understand...   \n",
       "906      chang guy global warm think climat stanc trump   \n",
       "6741     chang wear short novemb climat tshirt upsid im   \n",
       "\n",
       "                                            lemma_tweet  \n",
       "6841  change start new worry two people dont year ap...  \n",
       "4894  import sought change restricted mineral many h...  \n",
       "8696  change everyone fight planet glblctzn understa...  \n",
       "906   change guy global warming think climate stance...  \n",
       "6741  change wearing short november climate tshirt u...  "
      ]
     },
     "execution_count": 124,
     "metadata": {},
     "output_type": "execute_result"
    }
   ],
   "source": [
    "df_test_over.head()"
   ]
  },
  {
   "cell_type": "code",
   "execution_count": 128,
   "id": "01a61ae6",
   "metadata": {},
   "outputs": [],
   "source": [
    "# vectorize\n",
    "vectorizer = CountVectorizer(analyzer = \"word\",\n",
    "                             min_df=2,\n",
    "#                              max_df = 0.5,\n",
    "#                              ngram_range=(1, 5),\n",
    "                             max_features = None) "
   ]
  },
  {
   "cell_type": "code",
   "execution_count": 129,
   "id": "b5c21cfe",
   "metadata": {},
   "outputs": [],
   "source": [
    "reviews_vect = vectorizer.fit_transform(df_test_over['lemma_tweet'])"
   ]
  },
  {
   "cell_type": "code",
   "execution_count": 130,
   "id": "298fcb27",
   "metadata": {},
   "outputs": [
    {
     "data": {
      "text/plain": [
       "(34120, 13795)"
      ]
     },
     "execution_count": 130,
     "metadata": {},
     "output_type": "execute_result"
    }
   ],
   "source": [
    "train_data_features = reviews_vect.toarray() # for fast fitting of our dataset\n",
    "train_data_features.shape"
   ]
  },
  {
   "cell_type": "code",
   "execution_count": 131,
   "id": "08058a0a",
   "metadata": {},
   "outputs": [],
   "source": [
    "y = np.array(df_test_over['sentiment'])\n",
    "X = train_data_features\n",
    "\n",
    "# split into train and test\n",
    "X_train, X_test, y_train, y_test = train_test_split(X, y, test_size=0.2, random_state=10)"
   ]
  },
  {
   "cell_type": "code",
   "execution_count": 132,
   "id": "0a48eba2",
   "metadata": {},
   "outputs": [],
   "source": [
    "def modelling(model, X_train=X_train, X_test=X_test, y_train=y_train, y_test=y_test, coln_index=None):\n",
    "    model.fit(X_train, y_train)\n",
    "    pred_lm = model.predict(X_test)\n",
    "    # Plotting confusion matrix\n",
    "    cm = confusion_matrix(y_test, pred_lm)\n",
    "    cm_df = pd.DataFrame(cm, index = sentiment_list, columns = sentiment_list)\n",
    "    cr_df = pd.DataFrame(classification_report(y_test, pred_lm, target_names=sentiment_list, output_dict=True))\n",
    "    \n",
    "    #Plotting the confusion matrix\n",
    "    plt.figure(figsize=(10,5))\n",
    "    sns.heatmap(cm_df, annot=True)\n",
    "    plt.title('Confusion Matrix')\n",
    "    plt.ylabel('Actal Values')\n",
    "    plt.xlabel('Predicted Values')\n",
    "    plt.show()\n",
    "    \n",
    "    print('Confusion Matrix')\n",
    "    display(cm_df)\n",
    "    print('Classification Report')\n",
    "    display(cr_df)\n",
    "    \n",
    "    return cm_df, cr_df"
   ]
  },
  {
   "cell_type": "code",
   "execution_count": 133,
   "id": "57e16c87",
   "metadata": {
    "scrolled": false
   },
   "outputs": [
    {
     "name": "stdout",
     "output_type": "stream",
     "text": [
      "[LibLinear]"
     ]
    },
    {
     "data": {
      "image/png": "[encoded data removed]",
      "text/plain": [
       "<Figure size 720x360 with 2 Axes>"
      ]
     },
     "metadata": {
      "needs_background": "light"
     },
     "output_type": "display_data"
    },
    {
     "name": "stdout",
     "output_type": "stream",
     "text": [
      "Confusion Matrix\n"
     ]
    },
    {
     "data": {
      "text/html": [
       "<div>\n",
       "<style scoped>\n",
       "    .dataframe tbody tr th:only-of-type {\n",
       "        vertical-align: middle;\n",
       "    }\n",
       "\n",
       "    .dataframe tbody tr th {\n",
       "        vertical-align: top;\n",
       "    }\n",
       "\n",
       "    .dataframe thead th {\n",
       "        text-align: right;\n",
       "    }\n",
       "</style>\n",
       "<table border=\"1\" class=\"dataframe\">\n",
       "  <thead>\n",
       "    <tr style=\"text-align: right;\">\n",
       "      <th></th>\n",
       "      <th>Neutral</th>\n",
       "      <th>Anti-Climate</th>\n",
       "      <th>Pro-Climate</th>\n",
       "      <th>News-Fact</th>\n",
       "    </tr>\n",
       "  </thead>\n",
       "  <tbody>\n",
       "    <tr>\n",
       "      <th>Neutral</th>\n",
       "      <td>1691</td>\n",
       "      <td>7</td>\n",
       "      <td>11</td>\n",
       "      <td>0</td>\n",
       "    </tr>\n",
       "    <tr>\n",
       "      <th>Anti-Climate</th>\n",
       "      <td>15</td>\n",
       "      <td>1627</td>\n",
       "      <td>52</td>\n",
       "      <td>9</td>\n",
       "    </tr>\n",
       "    <tr>\n",
       "      <th>Pro-Climate</th>\n",
       "      <td>58</td>\n",
       "      <td>156</td>\n",
       "      <td>1342</td>\n",
       "      <td>155</td>\n",
       "    </tr>\n",
       "    <tr>\n",
       "      <th>News-Fact</th>\n",
       "      <td>0</td>\n",
       "      <td>17</td>\n",
       "      <td>48</td>\n",
       "      <td>1636</td>\n",
       "    </tr>\n",
       "  </tbody>\n",
       "</table>\n",
       "</div>"
      ],
      "text/plain": [
       "              Neutral  Anti-Climate  Pro-Climate  News-Fact\n",
       "Neutral          1691             7           11          0\n",
       "Anti-Climate       15          1627           52          9\n",
       "Pro-Climate        58           156         1342        155\n",
       "News-Fact           0            17           48       1636"
      ]
     },
     "metadata": {},
     "output_type": "display_data"
    },
    {
     "name": "stdout",
     "output_type": "stream",
     "text": [
      "Classification Report\n"
     ]
    },
    {
     "data": {
      "text/html": [
       "<div>\n",
       "<style scoped>\n",
       "    .dataframe tbody tr th:only-of-type {\n",
       "        vertical-align: middle;\n",
       "    }\n",
       "\n",
       "    .dataframe tbody tr th {\n",
       "        vertical-align: top;\n",
       "    }\n",
       "\n",
       "    .dataframe thead th {\n",
       "        text-align: right;\n",
       "    }\n",
       "</style>\n",
       "<table border=\"1\" class=\"dataframe\">\n",
       "  <thead>\n",
       "    <tr style=\"text-align: right;\">\n",
       "      <th></th>\n",
       "      <th>Neutral</th>\n",
       "      <th>Anti-Climate</th>\n",
       "      <th>Pro-Climate</th>\n",
       "      <th>News-Fact</th>\n",
       "      <th>accuracy</th>\n",
       "      <th>macro avg</th>\n",
       "      <th>weighted avg</th>\n",
       "    </tr>\n",
       "  </thead>\n",
       "  <tbody>\n",
       "    <tr>\n",
       "      <th>precision</th>\n",
       "      <td>0.958617</td>\n",
       "      <td>0.900387</td>\n",
       "      <td>0.923606</td>\n",
       "      <td>0.908889</td>\n",
       "      <td>0.922626</td>\n",
       "      <td>0.922875</td>\n",
       "      <td>0.922911</td>\n",
       "    </tr>\n",
       "    <tr>\n",
       "      <th>recall</th>\n",
       "      <td>0.989468</td>\n",
       "      <td>0.955373</td>\n",
       "      <td>0.784337</td>\n",
       "      <td>0.961787</td>\n",
       "      <td>0.922626</td>\n",
       "      <td>0.922741</td>\n",
       "      <td>0.922626</td>\n",
       "    </tr>\n",
       "    <tr>\n",
       "      <th>f1-score</th>\n",
       "      <td>0.973798</td>\n",
       "      <td>0.927066</td>\n",
       "      <td>0.848293</td>\n",
       "      <td>0.934590</td>\n",
       "      <td>0.922626</td>\n",
       "      <td>0.920937</td>\n",
       "      <td>0.920894</td>\n",
       "    </tr>\n",
       "    <tr>\n",
       "      <th>support</th>\n",
       "      <td>1709.000000</td>\n",
       "      <td>1703.000000</td>\n",
       "      <td>1711.000000</td>\n",
       "      <td>1701.000000</td>\n",
       "      <td>0.922626</td>\n",
       "      <td>6824.000000</td>\n",
       "      <td>6824.000000</td>\n",
       "    </tr>\n",
       "  </tbody>\n",
       "</table>\n",
       "</div>"
      ],
      "text/plain": [
       "               Neutral  Anti-Climate  Pro-Climate    News-Fact  accuracy  \\\n",
       "precision     0.958617      0.900387     0.923606     0.908889  0.922626   \n",
       "recall        0.989468      0.955373     0.784337     0.961787  0.922626   \n",
       "f1-score      0.973798      0.927066     0.848293     0.934590  0.922626   \n",
       "support    1709.000000   1703.000000  1711.000000  1701.000000  0.922626   \n",
       "\n",
       "             macro avg  weighted avg  \n",
       "precision     0.922875      0.922911  \n",
       "recall        0.922741      0.922626  \n",
       "f1-score      0.920937      0.920894  \n",
       "support    6824.000000   6824.000000  "
      ]
     },
     "metadata": {},
     "output_type": "display_data"
    }
   ],
   "source": [
    "# create logistic regression model instance\n",
    "lm = LogisticRegression(C=2, penalty='l2', solver='liblinear', verbose=1)\n",
    "cm_df, cr_df = modelling(lm,  coln_index=sentiment_list)"
   ]
  },
  {
   "cell_type": "code",
   "execution_count": 77,
   "id": "9e3021b2",
   "metadata": {},
   "outputs": [],
   "source": [
    "from sklearn.naive_bayes import GaussianNB\n",
    "from sklearn.neighbors import KNeighborsClassifier\n",
    "\n",
    "import warnings\n",
    "warnings.filterwarnings(\"ignore\")"
   ]
  },
  {
   "cell_type": "code",
   "execution_count": 78,
   "id": "80b12c9b",
   "metadata": {},
   "outputs": [
    {
     "data": {
      "image/png": "[encoded data removed]",
      "text/plain": [
       "<Figure size 720x360 with 2 Axes>"
      ]
     },
     "metadata": {
      "needs_background": "light"
     },
     "output_type": "display_data"
    },
    {
     "name": "stdout",
     "output_type": "stream",
     "text": [
      "Confusion Matrix\n"
     ]
    },
    {
     "data": {
      "text/html": [
       "<div>\n",
       "<style scoped>\n",
       "    .dataframe tbody tr th:only-of-type {\n",
       "        vertical-align: middle;\n",
       "    }\n",
       "\n",
       "    .dataframe tbody tr th {\n",
       "        vertical-align: top;\n",
       "    }\n",
       "\n",
       "    .dataframe thead th {\n",
       "        text-align: right;\n",
       "    }\n",
       "</style>\n",
       "<table border=\"1\" class=\"dataframe\">\n",
       "  <thead>\n",
       "    <tr style=\"text-align: right;\">\n",
       "      <th></th>\n",
       "      <th>Neutral</th>\n",
       "      <th>Anti-Climate</th>\n",
       "      <th>Pro-Climate</th>\n",
       "      <th>News-Fact</th>\n",
       "    </tr>\n",
       "  </thead>\n",
       "  <tbody>\n",
       "    <tr>\n",
       "      <th>Neutral</th>\n",
       "      <td>1697</td>\n",
       "      <td>9</td>\n",
       "      <td>0</td>\n",
       "      <td>3</td>\n",
       "    </tr>\n",
       "    <tr>\n",
       "      <th>Anti-Climate</th>\n",
       "      <td>5</td>\n",
       "      <td>1681</td>\n",
       "      <td>12</td>\n",
       "      <td>5</td>\n",
       "    </tr>\n",
       "    <tr>\n",
       "      <th>Pro-Climate</th>\n",
       "      <td>43</td>\n",
       "      <td>712</td>\n",
       "      <td>863</td>\n",
       "      <td>93</td>\n",
       "    </tr>\n",
       "    <tr>\n",
       "      <th>News-Fact</th>\n",
       "      <td>3</td>\n",
       "      <td>91</td>\n",
       "      <td>36</td>\n",
       "      <td>1571</td>\n",
       "    </tr>\n",
       "  </tbody>\n",
       "</table>\n",
       "</div>"
      ],
      "text/plain": [
       "              Neutral  Anti-Climate  Pro-Climate  News-Fact\n",
       "Neutral          1697             9            0          3\n",
       "Anti-Climate        5          1681           12          5\n",
       "Pro-Climate        43           712          863         93\n",
       "News-Fact           3            91           36       1571"
      ]
     },
     "metadata": {},
     "output_type": "display_data"
    },
    {
     "name": "stdout",
     "output_type": "stream",
     "text": [
      "Classification Report\n"
     ]
    },
    {
     "data": {
      "text/html": [
       "<div>\n",
       "<style scoped>\n",
       "    .dataframe tbody tr th:only-of-type {\n",
       "        vertical-align: middle;\n",
       "    }\n",
       "\n",
       "    .dataframe tbody tr th {\n",
       "        vertical-align: top;\n",
       "    }\n",
       "\n",
       "    .dataframe thead th {\n",
       "        text-align: right;\n",
       "    }\n",
       "</style>\n",
       "<table border=\"1\" class=\"dataframe\">\n",
       "  <thead>\n",
       "    <tr style=\"text-align: right;\">\n",
       "      <th></th>\n",
       "      <th>Neutral</th>\n",
       "      <th>Anti-Climate</th>\n",
       "      <th>Pro-Climate</th>\n",
       "      <th>News-Fact</th>\n",
       "      <th>accuracy</th>\n",
       "      <th>macro avg</th>\n",
       "      <th>weighted avg</th>\n",
       "    </tr>\n",
       "  </thead>\n",
       "  <tbody>\n",
       "    <tr>\n",
       "      <th>precision</th>\n",
       "      <td>0.970824</td>\n",
       "      <td>0.674288</td>\n",
       "      <td>0.947311</td>\n",
       "      <td>0.939593</td>\n",
       "      <td>0.8517</td>\n",
       "      <td>0.883004</td>\n",
       "      <td>0.883140</td>\n",
       "    </tr>\n",
       "    <tr>\n",
       "      <th>recall</th>\n",
       "      <td>0.992978</td>\n",
       "      <td>0.987082</td>\n",
       "      <td>0.504383</td>\n",
       "      <td>0.923574</td>\n",
       "      <td>0.8517</td>\n",
       "      <td>0.852004</td>\n",
       "      <td>0.851700</td>\n",
       "    </tr>\n",
       "    <tr>\n",
       "      <th>f1-score</th>\n",
       "      <td>0.981776</td>\n",
       "      <td>0.801239</td>\n",
       "      <td>0.658276</td>\n",
       "      <td>0.931515</td>\n",
       "      <td>0.8517</td>\n",
       "      <td>0.843202</td>\n",
       "      <td>0.843081</td>\n",
       "    </tr>\n",
       "    <tr>\n",
       "      <th>support</th>\n",
       "      <td>1709.000000</td>\n",
       "      <td>1703.000000</td>\n",
       "      <td>1711.000000</td>\n",
       "      <td>1701.000000</td>\n",
       "      <td>0.8517</td>\n",
       "      <td>6824.000000</td>\n",
       "      <td>6824.000000</td>\n",
       "    </tr>\n",
       "  </tbody>\n",
       "</table>\n",
       "</div>"
      ],
      "text/plain": [
       "               Neutral  Anti-Climate  Pro-Climate    News-Fact  accuracy  \\\n",
       "precision     0.970824      0.674288     0.947311     0.939593    0.8517   \n",
       "recall        0.992978      0.987082     0.504383     0.923574    0.8517   \n",
       "f1-score      0.981776      0.801239     0.658276     0.931515    0.8517   \n",
       "support    1709.000000   1703.000000  1711.000000  1701.000000    0.8517   \n",
       "\n",
       "             macro avg  weighted avg  \n",
       "precision     0.883004      0.883140  \n",
       "recall        0.852004      0.851700  \n",
       "f1-score      0.843202      0.843081  \n",
       "support    6824.000000   6824.000000  "
      ]
     },
     "metadata": {},
     "output_type": "display_data"
    }
   ],
   "source": [
    "n_neighbors = 1 # <--- change this number to play around with how many nearest neighbours to look for.\n",
    "\n",
    "knn = KNeighborsClassifier(n_neighbors)\n",
    "cm_df, cr_df = modelling(knn,  coln_index=sentiment_list)"
   ]
  },
  {
   "cell_type": "code",
   "execution_count": 79,
   "id": "f07f7688",
   "metadata": {},
   "outputs": [
    {
     "data": {
      "image/png": "[encoded data removed]",
      "text/plain": [
       "<Figure size 720x360 with 2 Axes>"
      ]
     },
     "metadata": {
      "needs_background": "light"
     },
     "output_type": "display_data"
    },
    {
     "name": "stdout",
     "output_type": "stream",
     "text": [
      "Confusion Matrix\n"
     ]
    },
    {
     "data": {
      "text/html": [
       "<div>\n",
       "<style scoped>\n",
       "    .dataframe tbody tr th:only-of-type {\n",
       "        vertical-align: middle;\n",
       "    }\n",
       "\n",
       "    .dataframe tbody tr th {\n",
       "        vertical-align: top;\n",
       "    }\n",
       "\n",
       "    .dataframe thead th {\n",
       "        text-align: right;\n",
       "    }\n",
       "</style>\n",
       "<table border=\"1\" class=\"dataframe\">\n",
       "  <thead>\n",
       "    <tr style=\"text-align: right;\">\n",
       "      <th></th>\n",
       "      <th>Neutral</th>\n",
       "      <th>Anti-Climate</th>\n",
       "      <th>Pro-Climate</th>\n",
       "      <th>News-Fact</th>\n",
       "    </tr>\n",
       "  </thead>\n",
       "  <tbody>\n",
       "    <tr>\n",
       "      <th>Neutral</th>\n",
       "      <td>1704</td>\n",
       "      <td>4</td>\n",
       "      <td>1</td>\n",
       "      <td>0</td>\n",
       "    </tr>\n",
       "    <tr>\n",
       "      <th>Anti-Climate</th>\n",
       "      <td>109</td>\n",
       "      <td>1394</td>\n",
       "      <td>139</td>\n",
       "      <td>61</td>\n",
       "    </tr>\n",
       "    <tr>\n",
       "      <th>Pro-Climate</th>\n",
       "      <td>286</td>\n",
       "      <td>40</td>\n",
       "      <td>1075</td>\n",
       "      <td>310</td>\n",
       "    </tr>\n",
       "    <tr>\n",
       "      <th>News-Fact</th>\n",
       "      <td>122</td>\n",
       "      <td>5</td>\n",
       "      <td>53</td>\n",
       "      <td>1521</td>\n",
       "    </tr>\n",
       "  </tbody>\n",
       "</table>\n",
       "</div>"
      ],
      "text/plain": [
       "              Neutral  Anti-Climate  Pro-Climate  News-Fact\n",
       "Neutral          1704             4            1          0\n",
       "Anti-Climate      109          1394          139         61\n",
       "Pro-Climate       286            40         1075        310\n",
       "News-Fact         122             5           53       1521"
      ]
     },
     "metadata": {},
     "output_type": "display_data"
    },
    {
     "name": "stdout",
     "output_type": "stream",
     "text": [
      "Classification Report\n"
     ]
    },
    {
     "data": {
      "text/html": [
       "<div>\n",
       "<style scoped>\n",
       "    .dataframe tbody tr th:only-of-type {\n",
       "        vertical-align: middle;\n",
       "    }\n",
       "\n",
       "    .dataframe tbody tr th {\n",
       "        vertical-align: top;\n",
       "    }\n",
       "\n",
       "    .dataframe thead th {\n",
       "        text-align: right;\n",
       "    }\n",
       "</style>\n",
       "<table border=\"1\" class=\"dataframe\">\n",
       "  <thead>\n",
       "    <tr style=\"text-align: right;\">\n",
       "      <th></th>\n",
       "      <th>Neutral</th>\n",
       "      <th>Anti-Climate</th>\n",
       "      <th>Pro-Climate</th>\n",
       "      <th>News-Fact</th>\n",
       "      <th>accuracy</th>\n",
       "      <th>macro avg</th>\n",
       "      <th>weighted avg</th>\n",
       "    </tr>\n",
       "  </thead>\n",
       "  <tbody>\n",
       "    <tr>\n",
       "      <th>precision</th>\n",
       "      <td>0.767222</td>\n",
       "      <td>0.966043</td>\n",
       "      <td>0.847792</td>\n",
       "      <td>0.803911</td>\n",
       "      <td>0.834408</td>\n",
       "      <td>0.846242</td>\n",
       "      <td>0.846187</td>\n",
       "    </tr>\n",
       "    <tr>\n",
       "      <th>recall</th>\n",
       "      <td>0.997074</td>\n",
       "      <td>0.818555</td>\n",
       "      <td>0.628288</td>\n",
       "      <td>0.894180</td>\n",
       "      <td>0.834408</td>\n",
       "      <td>0.834524</td>\n",
       "      <td>0.834408</td>\n",
       "    </tr>\n",
       "    <tr>\n",
       "      <th>f1-score</th>\n",
       "      <td>0.867176</td>\n",
       "      <td>0.886205</td>\n",
       "      <td>0.721719</td>\n",
       "      <td>0.846646</td>\n",
       "      <td>0.834408</td>\n",
       "      <td>0.830436</td>\n",
       "      <td>0.830336</td>\n",
       "    </tr>\n",
       "    <tr>\n",
       "      <th>support</th>\n",
       "      <td>1709.000000</td>\n",
       "      <td>1703.000000</td>\n",
       "      <td>1711.000000</td>\n",
       "      <td>1701.000000</td>\n",
       "      <td>0.834408</td>\n",
       "      <td>6824.000000</td>\n",
       "      <td>6824.000000</td>\n",
       "    </tr>\n",
       "  </tbody>\n",
       "</table>\n",
       "</div>"
      ],
      "text/plain": [
       "               Neutral  Anti-Climate  Pro-Climate    News-Fact  accuracy  \\\n",
       "precision     0.767222      0.966043     0.847792     0.803911  0.834408   \n",
       "recall        0.997074      0.818555     0.628288     0.894180  0.834408   \n",
       "f1-score      0.867176      0.886205     0.721719     0.846646  0.834408   \n",
       "support    1709.000000   1703.000000  1711.000000  1701.000000  0.834408   \n",
       "\n",
       "             macro avg  weighted avg  \n",
       "precision     0.846242      0.846187  \n",
       "recall        0.834524      0.834408  \n",
       "f1-score      0.830436      0.830336  \n",
       "support    6824.000000   6824.000000  "
      ]
     },
     "metadata": {},
     "output_type": "display_data"
    }
   ],
   "source": [
    "naive_bayes = GaussianNB()\n",
    "cm_df, cr_df = modelling(naive_bayes,  coln_index=sentiment_list)"
   ]
  },
  {
   "cell_type": "markdown",
   "id": "76465443",
   "metadata": {},
   "source": [
    "#### Cleaning the test dataset"
   ]
  },
  {
   "cell_type": "code",
   "execution_count": 134,
   "id": "79e01e57",
   "metadata": {},
   "outputs": [],
   "source": [
    "test_df['cleaned_tweet'] = test_df.message.apply(cleaning)\n",
    "test_df['lemma_tweet'] = test_df['cleaned_tweet'].apply(lemmatizer_fn, args=(lemmatizer, ))\n",
    "test_df['stem_tweet'] = test_df.cleaned_tweet.apply(stemmer_fn, args=(stemmer, ))"
   ]
  },
  {
   "cell_type": "code",
   "execution_count": 135,
   "id": "8ad36d47",
   "metadata": {},
   "outputs": [
    {
     "data": {
      "text/html": [
       "<div>\n",
       "<style scoped>\n",
       "    .dataframe tbody tr th:only-of-type {\n",
       "        vertical-align: middle;\n",
       "    }\n",
       "\n",
       "    .dataframe tbody tr th {\n",
       "        vertical-align: top;\n",
       "    }\n",
       "\n",
       "    .dataframe thead th {\n",
       "        text-align: right;\n",
       "    }\n",
       "</style>\n",
       "<table border=\"1\" class=\"dataframe\">\n",
       "  <thead>\n",
       "    <tr style=\"text-align: right;\">\n",
       "      <th></th>\n",
       "      <th>message</th>\n",
       "      <th>tweetid</th>\n",
       "      <th>cleaned_tweet</th>\n",
       "      <th>lemma_tweet</th>\n",
       "      <th>stem_tweet</th>\n",
       "    </tr>\n",
       "  </thead>\n",
       "  <tbody>\n",
       "    <tr>\n",
       "      <th>0</th>\n",
       "      <td>Europe will now be looking to China to make su...</td>\n",
       "      <td>169760</td>\n",
       "      <td>europe looking china make sure alone fighting ...</td>\n",
       "      <td>change sure looking europe make fighting clima...</td>\n",
       "      <td>chang sure look europ make fight climat china ...</td>\n",
       "    </tr>\n",
       "    <tr>\n",
       "      <th>1</th>\n",
       "      <td>Combine this with the polling of staffers re c...</td>\n",
       "      <td>35326</td>\n",
       "      <td>combine polling staffers climate change womens...</td>\n",
       "      <td>polling change woman combine fascist state cli...</td>\n",
       "      <td>poll chang women combin fascist state climat s...</td>\n",
       "    </tr>\n",
       "    <tr>\n",
       "      <th>2</th>\n",
       "      <td>The scary, unimpeachable evidence that climate...</td>\n",
       "      <td>224985</td>\n",
       "      <td>scary unimpeachable evidence climate change al...</td>\n",
       "      <td>change evidence itstimetochange already climat...</td>\n",
       "      <td>chang evid itstimetochang alreadi climat unimp...</td>\n",
       "    </tr>\n",
       "    <tr>\n",
       "      <th>3</th>\n",
       "      <td>@Karoli @morgfair @OsborneInk @dailykos \\nPuti...</td>\n",
       "      <td>476263</td>\n",
       "      <td>karoli morgfair osborneink dailykos putin got ...</td>\n",
       "      <td>change think hoax got putin dailykos jill osbo...</td>\n",
       "      <td>chang think hoax got putin dailyko jill osborn...</td>\n",
       "    </tr>\n",
       "    <tr>\n",
       "      <th>4</th>\n",
       "      <td>RT @FakeWillMoore: 'Female orgasms cause globa...</td>\n",
       "      <td>872928</td>\n",
       "      <td>fakewillmoore female orgasms cause global warm...</td>\n",
       "      <td>orgasm global republican cause fakewillmoore f...</td>\n",
       "      <td>orgasm global republican caus fakewillmoor fem...</td>\n",
       "    </tr>\n",
       "    <tr>\n",
       "      <th>...</th>\n",
       "      <td>...</td>\n",
       "      <td>...</td>\n",
       "      <td>...</td>\n",
       "      <td>...</td>\n",
       "      <td>...</td>\n",
       "    </tr>\n",
       "    <tr>\n",
       "      <th>10541</th>\n",
       "      <td>RT @BrittanyBohrer: Brb, writing a poem about ...</td>\n",
       "      <td>895714</td>\n",
       "      <td>brittanybohrer brb writing poem climate change...</td>\n",
       "      <td>change writing science brb climate brittanyboh...</td>\n",
       "      <td>chang write scienc brb climat brittanybohr poe...</td>\n",
       "    </tr>\n",
       "    <tr>\n",
       "      <th>10542</th>\n",
       "      <td>2016: the year climate change came home: Durin...</td>\n",
       "      <td>875167</td>\n",
       "      <td>year climate change came home hottest year rec...</td>\n",
       "      <td>change karl home came mathiesen year record cl...</td>\n",
       "      <td>chang karl home came mathiesen year record cli...</td>\n",
       "    </tr>\n",
       "    <tr>\n",
       "      <th>10543</th>\n",
       "      <td>RT @loop_vanuatu: Pacific countries positive a...</td>\n",
       "      <td>78329</td>\n",
       "      <td>loopvanuatu pacific countries positive fiji le...</td>\n",
       "      <td>change positive global loopvanuatu leading nov...</td>\n",
       "      <td>chang posit global loopvanuatu lead novemb cli...</td>\n",
       "    </tr>\n",
       "    <tr>\n",
       "      <th>10544</th>\n",
       "      <td>RT @xanria_00018: You’re so hot, you must be t...</td>\n",
       "      <td>867455</td>\n",
       "      <td>xanria youre hot must cause global warming ald...</td>\n",
       "      <td>hot global must warming jophie xanria cause al...</td>\n",
       "      <td>hot global must warm jophi xanria caus aldubla...</td>\n",
       "    </tr>\n",
       "    <tr>\n",
       "      <th>10545</th>\n",
       "      <td>RT @chloebalaoing: climate change is a global ...</td>\n",
       "      <td>470892</td>\n",
       "      <td>chloebalaoing climate change global issue that...</td>\n",
       "      <td>change least global effort worse plant chloeba...</td>\n",
       "      <td>chang least global effort wors plant chloebala...</td>\n",
       "    </tr>\n",
       "  </tbody>\n",
       "</table>\n",
       "<p>10546 rows × 5 columns</p>\n",
       "</div>"
      ],
      "text/plain": [
       "                                                 message  tweetid  \\\n",
       "0      Europe will now be looking to China to make su...   169760   \n",
       "1      Combine this with the polling of staffers re c...    35326   \n",
       "2      The scary, unimpeachable evidence that climate...   224985   \n",
       "3      @Karoli @morgfair @OsborneInk @dailykos \\nPuti...   476263   \n",
       "4      RT @FakeWillMoore: 'Female orgasms cause globa...   872928   \n",
       "...                                                  ...      ...   \n",
       "10541  RT @BrittanyBohrer: Brb, writing a poem about ...   895714   \n",
       "10542  2016: the year climate change came home: Durin...   875167   \n",
       "10543  RT @loop_vanuatu: Pacific countries positive a...    78329   \n",
       "10544  RT @xanria_00018: You’re so hot, you must be t...   867455   \n",
       "10545  RT @chloebalaoing: climate change is a global ...   470892   \n",
       "\n",
       "                                           cleaned_tweet  \\\n",
       "0      europe looking china make sure alone fighting ...   \n",
       "1      combine polling staffers climate change womens...   \n",
       "2      scary unimpeachable evidence climate change al...   \n",
       "3      karoli morgfair osborneink dailykos putin got ...   \n",
       "4      fakewillmoore female orgasms cause global warm...   \n",
       "...                                                  ...   \n",
       "10541  brittanybohrer brb writing poem climate change...   \n",
       "10542  year climate change came home hottest year rec...   \n",
       "10543  loopvanuatu pacific countries positive fiji le...   \n",
       "10544  xanria youre hot must cause global warming ald...   \n",
       "10545  chloebalaoing climate change global issue that...   \n",
       "\n",
       "                                             lemma_tweet  \\\n",
       "0      change sure looking europe make fighting clima...   \n",
       "1      polling change woman combine fascist state cli...   \n",
       "2      change evidence itstimetochange already climat...   \n",
       "3      change think hoax got putin dailykos jill osbo...   \n",
       "4      orgasm global republican cause fakewillmoore f...   \n",
       "...                                                  ...   \n",
       "10541  change writing science brb climate brittanyboh...   \n",
       "10542  change karl home came mathiesen year record cl...   \n",
       "10543  change positive global loopvanuatu leading nov...   \n",
       "10544  hot global must warming jophie xanria cause al...   \n",
       "10545  change least global effort worse plant chloeba...   \n",
       "\n",
       "                                              stem_tweet  \n",
       "0      chang sure look europ make fight climat china ...  \n",
       "1      poll chang women combin fascist state climat s...  \n",
       "2      chang evid itstimetochang alreadi climat unimp...  \n",
       "3      chang think hoax got putin dailyko jill osborn...  \n",
       "4      orgasm global republican caus fakewillmoor fem...  \n",
       "...                                                  ...  \n",
       "10541  chang write scienc brb climat brittanybohr poe...  \n",
       "10542  chang karl home came mathiesen year record cli...  \n",
       "10543  chang posit global loopvanuatu lead novemb cli...  \n",
       "10544  hot global must warm jophi xanria caus aldubla...  \n",
       "10545  chang least global effort wors plant chloebala...  \n",
       "\n",
       "[10546 rows x 5 columns]"
      ]
     },
     "execution_count": 135,
     "metadata": {},
     "output_type": "execute_result"
    }
   ],
   "source": [
    "test_df"
   ]
  },
  {
   "cell_type": "code",
   "execution_count": 136,
   "id": "04ff5392",
   "metadata": {},
   "outputs": [],
   "source": [
    "reviews_vect_test = vectorizer.transform(test_df['lemma_tweet'])"
   ]
  },
  {
   "cell_type": "code",
   "execution_count": 137,
   "id": "9e01cc1f",
   "metadata": {},
   "outputs": [
    {
     "data": {
      "text/plain": [
       "(10546, 13795)"
      ]
     },
     "execution_count": 137,
     "metadata": {},
     "output_type": "execute_result"
    }
   ],
   "source": [
    "test_data_features = reviews_vect_test.toarray() # for fast fitting of our dataset\n",
    "test_data_features.shape"
   ]
  },
  {
   "cell_type": "code",
   "execution_count": 138,
   "id": "e7750ceb",
   "metadata": {},
   "outputs": [
    {
     "name": "stdout",
     "output_type": "stream",
     "text": [
      "[LibLinear]"
     ]
    }
   ],
   "source": [
    "lm = LogisticRegression(C=2, penalty='l2', solver='liblinear', verbose=1)\n",
    "lm.fit(X_train, y_train)\n",
    "pred_lm = lm.predict(test_data_features)"
   ]
  },
  {
   "cell_type": "code",
   "execution_count": 139,
   "id": "e76851ce",
   "metadata": {},
   "outputs": [],
   "source": [
    "# Saving test predictions to file\n",
    "output = pd.DataFrame({'tweetid': test_df.tweetid,\n",
    "                       'sentiment': pred_lm})\n",
    "output.to_csv('submission.csv', index=False)"
   ]
  },
  {
   "cell_type": "code",
   "execution_count": null,
   "id": "dd54df8c",
   "metadata": {},
   "outputs": [],
   "source": []
  }
 ],
 "metadata": {
  "kernelspec": {
   "display_name": "Python 3 (ipykernel)",
   "language": "python",
   "name": "python3"
  },
  "language_info": {
   "codemirror_mode": {
    "name": "ipython",
    "version": 3
   },
   "file_extension": ".py",
   "mimetype": "text/x-python",
   "name": "python",
   "nbconvert_exporter": "python",
   "pygments_lexer": "ipython3",
   "version": "3.9.7"
  }
 },
 "nbformat": 4,
 "nbformat_minor": 5
}
